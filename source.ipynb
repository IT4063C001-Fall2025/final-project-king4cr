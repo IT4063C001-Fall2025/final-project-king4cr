{
 "cells": [
  {
   "attachments": {},
   "cell_type": "markdown",
   "metadata": {},
   "source": [
    "# Phones vs. Students📝\n",
    "\n",
    "![Banner](./assets/banner.jpeg)"
   ]
  },
  {
   "attachments": {},
   "cell_type": "markdown",
   "metadata": {},
   "source": [
    "## Topic\n",
    "*What problem are you (or your stakeholder) trying to address?*\n",
    "📝 <!-- Answer Below -->\n",
    "##\n",
    "The impacts of phone screen time on student well being and academic performace. "
   ]
  },
  {
   "attachments": {},
   "cell_type": "markdown",
   "metadata": {},
   "source": [
    "## Project Question\n",
    "*What specific question are you seeking to answer with this project?*\n",
    "*This is not the same as the questions you ask to limit the scope of the project.*\n",
    "📝 <!-- Answer Below -->\n",
    "## \n",
    "How do different patterns of screen time including academic use vs. non academic use bedtime screen time habits, and the use of screen time managemnt tools affect student GPA, sleep quality, and well being?"
   ]
  },
  {
   "attachments": {},
   "cell_type": "markdown",
   "metadata": {},
   "source": [
    "## What would an answer look like?\n",
    "*What is your hypothesized answer to your question?*\n",
    "📝 <!-- Answer Below -->\n",
    "##\n",
    "I hypothesize that toal screen time per day is negatively correlated with student GPA especially when screen time is used more for non academic use. Then I think academic screen time may show a positive or somewhat neutral correlation while bedtime screen time likely messes with sleep duration and qaulity which would contribute to poor academic and mental health outcome. Lastly I think that students who use screen time management tools will show better sleep, higher GPA, and a better well being. "
   ]
  },
  {
   "attachments": {},
   "cell_type": "markdown",
   "metadata": {},
   "source": [
    "## Data Sources\n",
    "*What 3 data sources have you identified for this project?*\n",
    "*How are you going to relate these datasets?*\n",
    "📝 <!-- Answer Below -->\n",
    "##\n",
    "1. Screen Time Data (Github/CSV)\n",
    "https://github.com/rashakil-ds/Public-Datasets/blob/main/Screen%20Time%20Data.csv\n",
    "\n",
    "2. Teen Screen Time and Mental Health Summary(CDC/Scaped Page) \n",
    "https://www.cdc.gov/nchs/products/databriefs/db513.htm\n",
    "\n",
    "3. Academic Performance Database (Kaggle/SQLite)\n",
    "https://www.kaggle.com/datasets/spscientist/students-performance-in-exams\n",
    "\n",
    "I will compare screen time data with GPA, sleep, and mental health outcomes by matching similar categories across datasets. For example I will look at total screen time and academic screen time from the CSV file, then compare those values to GPA scores from the database. I will also use bedtime screen use and sleep data to check for patterns in sleep quality. For mental health, I willl use scraped CDC stats to see how screen time levels relate to anxiety or depression trends. Each dataset will be aligned by category or behavior to find clear relationships.\n",
    "\n"
   ]
  },
  {
   "attachments": {},
   "cell_type": "markdown",
   "metadata": {},
   "source": [
    "## Approach and Analysis\n",
    "*What is your approach to answering your project question?*\n",
    "*How will you use the identified data to answer your project question?* 📝\n",
    "##\n",
    "To start I will import and clean each dataset so I can compare screen time, GPA, sleep, and mental health. Then I will group the data by categories like total screen time, academic vs. non academic use, and whether students use screen time tools. I’ll use simple visualizations to show patterns and relationships.\n",
    "\n",
    "What my answers could look like:\n",
    "\n",
    "- A scatter plot showing GPA compared to total screen time, with a trend line to show correlation.\n",
    "- A bar chart comparing sleep hours and sleep quality across screen time ranges (<1-2 Hours, 2-3 hours, 3+ hours, etc)\n",
    "- A stacked bar chart showing academic vs. non-academic screen time and their average GPA\n",
    "- A box plot comparing GPA and sleep duration between students who use screen time management tools and those who don’t\n",
    "\n",
    "\n",
    "\n"
   ]
  },
  {
   "cell_type": "markdown",
   "metadata": {},
   "source": [
    "## Check Point 2\n",
    "\n",
    "## Exploratory Data Analysis (EDA)\n",
    "\n",
    "What insights and interesting information are you able to extract at this stage?\n",
    "\n",
    "- The screen time data tracks daily usage across different categories like social networking, reading, productivity, etc.\n",
    "\n",
    "- Social networking consistently shows the highest usage among all categories\n",
    "\n",
    "- Student performance data includes academic scores across three subjects (math, reading, writing) along with demographic and educational factors.\n",
    "\n",
    "- The data includes information about test preparation and parental education levels\n",
    "What are the distributions of my variables?\n",
    "\n",
    "\n",
    "What are the distributions of my variables?\n",
    "\n",
    "- Screen Time variables show daily fluctuations, with most activity concentrated in Social Networking\n",
    "\n",
    "- Total Screen Time appears to vary between 50-200 minutes per day\n",
    "\n",
    "- Student test scores appear to be normally distributed, typically ranging from 40-95\n",
    "\n",
    "- Reading and Productivity categories show moderate usage, while Gaming and Other categories have lower engagement.\n",
    "\n",
    "Are there any correlations between my variables?\n",
    "\n",
    "- There's likely a strong correlation between all three test scores with math, reading, writing\n",
    "\n",
    "- Screen time categories show some correlation with total screen time\n",
    "\n",
    "- Social Networking appears to have the strongest correlation with Total Screen Time\n",
    "\n",
    "\n",
    "What issues can you see in your data at this point?\n",
    "\n",
    "- Some screen time categories like yoga and creativity have many zero values\n",
    "\n",
    "- The datasets are from different sources and will need integration\n",
    "\n",
    "- The time periods for the datasets may not align perfectly\n",
    "\n",
    "Are there any outliers or anomalies? are they relevant to your analysis? or should they be removed?\n",
    "\n",
    "- There appear to be some extremely high screen time days \n",
    "\n",
    "- Some test scores show unusually low values \n",
    "\n",
    "- These outliers are likely relevant to my analysis and should will be kept as they represent real behavior patterns\n",
    "\n",
    "Are there any missing values? how are you going to deal with them?\n",
    "\n",
    "- The Screen Time data appears complete for the main categories\n",
    "\n",
    "- Student Performance data appears to have complete entries for test scores\n",
    "\n",
    "- I am not seeing significant missing value issues as of now\n",
    "\n",
    "Are there any duplicate values? how are you going to deal with them?\n",
    "\n",
    "- Some screen time patterns might repeat across days\n",
    "\n",
    "- Student performance data likely has unique entries per student\n",
    "\n",
    "- I will check duplicates to ensure they represent genuine repeated measurements\n",
    "\n",
    "Are there any data types that need to be changed?\n",
    "\n",
    "- Dates in the Screen Time data should be converted to datetime format\n",
    "- Week Day could be converted to a categorical type\n",
    "\n",
    "- Test scores could be converted to integer type if they're not already\n",
    "\n",
    "- Categorical variables in the Student Performance data like gender and race/ethnicity  might need to be properly encoded for analysis"
   ]
  },
  {
   "cell_type": "markdown",
   "metadata": {},
   "source": [
    "## Data Cleaning and Transformation\n",
    "\n",
    "In this section, you'll clean data per your findings in the EDA section. You will be handling issues such as:\n",
    "\n",
    "Missing values\n",
    "\n",
    "Duplicate values\n",
    "\n",
    "Anomalies and Outliers\n",
    "\n",
    "Data types transformation"
   ]
  },
  {
   "attachments": {},
   "cell_type": "markdown",
   "metadata": {},
   "source": [
    "## Resources and References\n",
    "*What resources and references have you used for this project?*\n",
    "📝 <!-- Answer Below -->\n",
    "##\n",
    "https://pandas.pydata.org/docs/\n",
    "https://docs.python.org/3/library/sqlite3.html\n",
    "https://requests.readthedocs.io/en/latest/\n",
    "https://www.crummy.com/software/BeautifulSoup/bs4/doc/\n",
    "https://github.com/Kaggle/kaggle-api\n",
    "https://seaborn.pydata.org/\n"
   ]
  },
  {
   "cell_type": "code",
   "execution_count": 1,
   "metadata": {},
   "outputs": [
    {
     "name": "stderr",
     "output_type": "stream",
     "text": [
      "[NbConvertApp] Converting notebook source.ipynb to python\n",
      "[NbConvertApp] Writing 3974 bytes to source.py\n"
     ]
    }
   ],
   "source": [
    "# ⚠️ Make sure you run this cell at the end of your notebook before every submission!\n",
    "!jupyter nbconvert --to python source.ipynb"
   ]
  }
 ],
 "metadata": {
  "kernelspec": {
   "display_name": "Python 3",
   "language": "python",
   "name": "python3"
  },
  "language_info": {
   "codemirror_mode": {
    "name": "ipython",
    "version": 3
   },
   "file_extension": ".py",
   "mimetype": "text/x-python",
   "name": "python",
   "nbconvert_exporter": "python",
   "pygments_lexer": "ipython3",
   "version": "3.12.2"
  },
  "orig_nbformat": 4
 },
 "nbformat": 4,
 "nbformat_minor": 2
}
